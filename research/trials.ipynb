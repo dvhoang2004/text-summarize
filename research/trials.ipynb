{
 "cells": [
  {
   "cell_type": "code",
   "execution_count": 2,
   "id": "93a716d2",
   "metadata": {},
   "outputs": [],
   "source": [
    "from ensure import ensure_annotations\n",
    "from box import ConfigBox"
   ]
  },
  {
   "cell_type": "code",
   "execution_count": 3,
   "id": "41182ff7",
   "metadata": {},
   "outputs": [],
   "source": [
    "@ensure_annotations\n",
    "def mmm(x: int, y: int) -> int:\n",
    "    return x + y"
   ]
  },
  {
   "cell_type": "code",
   "execution_count": 4,
   "id": "f128616c",
   "metadata": {},
   "outputs": [
    {
     "data": {
      "text/plain": [
       "3"
      ]
     },
     "execution_count": 4,
     "metadata": {},
     "output_type": "execute_result"
    }
   ],
   "source": [
    "mmm(1, 2)  "
   ]
  },
  {
   "cell_type": "code",
   "execution_count": 6,
   "id": "f80bb273",
   "metadata": {},
   "outputs": [
    {
     "name": "stdout",
     "output_type": "stream",
     "text": [
      "value\n",
      "new_value\n",
      "{'key': 'new_value', 'new_key': 'another_value'}\n"
     ]
    }
   ],
   "source": [
    "cfbox = ConfigBox({\"key\": \"value\"})\n",
    "print(cfbox.key)\n",
    "cfbox.key = \"new_value\"\n",
    "print(cfbox.key)\n",
    "cfbox.new_key = \"another_value\"\n",
    "print(cfbox)"
   ]
  }
 ],
 "metadata": {
  "kernelspec": {
   "display_name": "venv (3.12.9)",
   "language": "python",
   "name": "python3"
  },
  "language_info": {
   "codemirror_mode": {
    "name": "ipython",
    "version": 3
   },
   "file_extension": ".py",
   "mimetype": "text/x-python",
   "name": "python",
   "nbconvert_exporter": "python",
   "pygments_lexer": "ipython3",
   "version": "3.12.9"
  }
 },
 "nbformat": 4,
 "nbformat_minor": 5
}
