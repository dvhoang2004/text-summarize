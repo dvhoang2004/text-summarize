{
 "cells": [
  {
   "cell_type": "code",
   "execution_count": 1,
   "id": "84ff4ae7",
   "metadata": {},
   "outputs": [],
   "source": [
    "import os"
   ]
  },
  {
   "cell_type": "code",
   "execution_count": 2,
   "id": "f8cd7164",
   "metadata": {},
   "outputs": [],
   "source": [
    "os.chdir(\"E:/My_Prj/Project/text-summarize\")"
   ]
  },
  {
   "cell_type": "code",
   "execution_count": 3,
   "id": "dcad3cd3",
   "metadata": {},
   "outputs": [
    {
     "data": {
      "text/plain": [
       "'E:\\\\My_Prj\\\\Project\\\\text-summarize'"
      ]
     },
     "execution_count": 3,
     "metadata": {},
     "output_type": "execute_result"
    }
   ],
   "source": [
    "%pwd"
   ]
  },
  {
   "cell_type": "code",
   "execution_count": 4,
   "id": "712e558a",
   "metadata": {},
   "outputs": [],
   "source": [
    "from dataclasses import dataclass\n",
    "from pathlib import Path\n",
    "\n",
    "@dataclass(frozen=True)\n",
    "class DataIngestionConfig:\n",
    "    root_dir: Path\n",
    "    source_URL: str\n",
    "    local_data_file: Path\n",
    "    unzip_dir: Path"
   ]
  },
  {
   "cell_type": "code",
   "execution_count": 5,
   "id": "fc807b2e",
   "metadata": {},
   "outputs": [],
   "source": [
    "from textSummarize.constants import CONFIG_FILE_PATH, PARAMS_FILE_PATH\n",
    "from textSummarize.utils.common import read_yaml, create_directories"
   ]
  },
  {
   "cell_type": "code",
   "execution_count": 6,
   "id": "1c80f364",
   "metadata": {},
   "outputs": [],
   "source": [
    "class ConfigurationManager:\n",
    "    def __init__(\n",
    "            self, \n",
    "            config_filepath = Path(CONFIG_FILE_PATH),\n",
    "            params_filepath = Path(PARAMS_FILE_PATH)\n",
    "    ):\n",
    "        self.config = read_yaml(config_filepath)\n",
    "        self.params = read_yaml(params_filepath)\n",
    "\n",
    "        create_directories([self.config.artifacts_root])\n",
    "\n",
    "    def get_data_ingestion_config(self) -> DataIngestionConfig:\n",
    "        config = self.config.data_ingestion\n",
    "        create_directories([config.root_dir])\n",
    "\n",
    "        data_ingestion_config = DataIngestionConfig(\n",
    "            root_dir=config.root_dir,\n",
    "            source_URL=config.source_URL,\n",
    "            local_data_file=config.local_data_file,\n",
    "            unzip_dir=config.unzip_dir\n",
    "        )\n",
    "\n",
    "        return data_ingestion_config\n",
    "    "
   ]
  },
  {
   "cell_type": "code",
   "execution_count": 7,
   "id": "ee31547b",
   "metadata": {},
   "outputs": [],
   "source": [
    "import os\n",
    "import urllib.request as request\n",
    "import zipfile\n",
    "from textSummarize.logging import logger\n",
    "from textSummarize.utils.common import get_size"
   ]
  },
  {
   "cell_type": "code",
   "execution_count": 8,
   "id": "caaefd43",
   "metadata": {},
   "outputs": [],
   "source": [
    "class DataIngestion:\n",
    "    def __init__(self, config: DataIngestionConfig):\n",
    "        self.config = config\n",
    "\n",
    "    def download_file(self):\n",
    "        if not os.path.exists(self.config.local_data_file):\n",
    "            file_name, header = request.urlretrieve(\n",
    "                url=self.config.source_URL,\n",
    "                filename=self.config.local_data_file\n",
    "            )\n",
    "            logger.info(f\"Downloaded file: {file_name} with headers: {header}\")\n",
    "        else:\n",
    "            logger.info(f\"File already exists. Size: {get_size(self.config.local_data_file)} KB\")\n",
    "\n",
    "    def extract_zip_file(self):\n",
    "        unzip_path = self.config.unzip_dir\n",
    "        os.makedirs(unzip_path, exist_ok=True)\n",
    "        with zipfile.ZipFile(self.config.local_data_file, 'r') as zip_ref:\n",
    "            zip_ref.extractall(unzip_path)\n",
    "            logger.info(f\"Extracted files to: {unzip_path}\")"
   ]
  },
  {
   "cell_type": "code",
   "execution_count": 9,
   "id": "faa69edc",
   "metadata": {},
   "outputs": [
    {
     "name": "stdout",
     "output_type": "stream",
     "text": [
      "[2025-08-22 15:51:08,144: INFO: common: YAML file config\\config.yaml read successfully.]\n",
      "[2025-08-22 15:51:08,144: INFO: common: YAML file params.yaml read successfully.]\n",
      "[2025-08-22 15:51:08,144: INFO: common: Directory artifacts created successfully or already exists.]\n",
      "[2025-08-22 15:51:08,144: INFO: common: Directory artifacts/data_ingestion created successfully or already exists.]\n",
      "[2025-08-22 15:51:10,188: INFO: 2701001488: Downloaded file: artifacts/data_ingestion/data.zip with headers: Connection: close\n",
      "Content-Length: 7903594\n",
      "Cache-Control: max-age=300\n",
      "Content-Security-Policy: default-src 'none'; style-src 'unsafe-inline'; sandbox\n",
      "Content-Type: application/zip\n",
      "ETag: \"dbc016a060da18070593b83afff580c9b300f0b6ea4147a7988433e04df246ca\"\n",
      "Strict-Transport-Security: max-age=31536000\n",
      "X-Content-Type-Options: nosniff\n",
      "X-Frame-Options: deny\n",
      "X-XSS-Protection: 1; mode=block\n",
      "X-GitHub-Request-Id: C963:37B5C3:1D9C2:21775:68A82F7A\n",
      "Accept-Ranges: bytes\n",
      "Date: Fri, 22 Aug 2025 08:51:09 GMT\n",
      "Via: 1.1 varnish\n",
      "X-Served-By: cache-sin-wsss1830064-SIN\n",
      "X-Cache: MISS\n",
      "X-Cache-Hits: 0\n",
      "X-Timer: S1755852668.761489,VS0,VE1247\n",
      "Vary: Authorization,Accept-Encoding\n",
      "Access-Control-Allow-Origin: *\n",
      "Cross-Origin-Resource-Policy: cross-origin\n",
      "X-Fastly-Request-ID: d7223c60aaa8f4f7fadf8fb76d080773329c1367\n",
      "Expires: Fri, 22 Aug 2025 08:56:09 GMT\n",
      "Source-Age: 1\n",
      "\n",
      "]\n",
      "[2025-08-22 15:51:10,318: INFO: 2701001488: Extracted files to: artifacts/data_ingestion]\n"
     ]
    }
   ],
   "source": [
    "try:\n",
    "    config = ConfigurationManager()\n",
    "    data_ingestion_config = config.get_data_ingestion_config()\n",
    "    data_ingestion = DataIngestion(config=data_ingestion_config)\n",
    "    data_ingestion.download_file()\n",
    "    data_ingestion.extract_zip_file()\n",
    "except Exception as e:\n",
    "    raise e"
   ]
  }
 ],
 "metadata": {
  "kernelspec": {
   "display_name": "venv (3.12.9)",
   "language": "python",
   "name": "python3"
  },
  "language_info": {
   "codemirror_mode": {
    "name": "ipython",
    "version": 3
   },
   "file_extension": ".py",
   "mimetype": "text/x-python",
   "name": "python",
   "nbconvert_exporter": "python",
   "pygments_lexer": "ipython3",
   "version": "3.12.9"
  }
 },
 "nbformat": 4,
 "nbformat_minor": 5
}
